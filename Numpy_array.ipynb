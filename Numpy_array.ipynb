{
 "cells": [
  {
   "cell_type": "code",
   "execution_count": 2,
   "id": "1e55855a",
   "metadata": {},
   "outputs": [],
   "source": [
    "import numpy as np\n",
    "import random"
   ]
  },
  {
   "cell_type": "markdown",
   "id": "e3ba8a3d",
   "metadata": {},
   "source": [
    "#### 배열(Array)\n",
    "python의 list와 비슷하나 더 높은 dimention의 데이터를 다룰 수 있음\n",
    "\n",
    "##### Array 생성하기"
   ]
  },
  {
   "cell_type": "code",
   "execution_count": 3,
   "id": "ecb6f3ec",
   "metadata": {},
   "outputs": [
    {
     "name": "stdout",
     "output_type": "stream",
     "text": [
      "[]\n",
      "[]\n",
      "type of list1 :  <class 'list'>\n",
      "type of array1 :  <class 'numpy.ndarray'>\n"
     ]
    }
   ],
   "source": [
    "list1 = []\n",
    "array1 = np.array([])\n",
    "print(list1)\n",
    "print(array1)\n",
    "print('type of list1 : ',type(list1))\n",
    "print('type of array1 : ',type(array1))"
   ]
  },
  {
   "cell_type": "markdown",
   "id": "6d30ef0b",
   "metadata": {},
   "source": [
    "##### 크기를 확인하고 싶을 때"
   ]
  },
  {
   "cell_type": "code",
   "execution_count": 4,
   "id": "78b886b4",
   "metadata": {},
   "outputs": [
    {
     "name": "stdout",
     "output_type": "stream",
     "text": [
      "[0, 5, 3, 3, 1]\n",
      "[2 8 1 7 9]\n",
      "================================\n",
      "list2의 길이 : 5\n",
      "array2의 모양 : (5,)\n",
      "array2의 크기 : 5\n",
      "array2의 길이 : 5\n",
      "=====================================\n",
      "비어있는 array의 모양 : (0,)\n"
     ]
    }
   ],
   "source": [
    "list2 = [random.randint(0,10) for x in range(5)]\n",
    "array2 = np.random.randint(low=0, high=10, size=5)\n",
    "\n",
    "print(list2)\n",
    "print(array2)\n",
    "\n",
    "print('================================')\n",
    "print('list2의 길이 :', len(list2))\n",
    "print('array2의 모양 :', array2.shape)\n",
    "print('array2의 크기 :', array2.size)\n",
    "print('array2의 길이 :', len(array2))  # 리스트 오브젝트에는 shape, size attribute가 없지만 array에는 len을 쓸 수는 있음. \n",
    "print('=====================================')\n",
    "print('비어있는 array의 모양 :', array1.shape)"
   ]
  },
  {
   "cell_type": "code",
   "execution_count": 26,
   "id": "616a3837",
   "metadata": {},
   "outputs": [
    {
     "name": "stdout",
     "output_type": "stream",
     "text": [
      "[[2 2 5]\n",
      " [3 2 5]\n",
      " [8 2 1]\n",
      " [2 0 2]]\n",
      "================================\n",
      "array3의 모양 : (4, 3)\n",
      "array3의 크기 : 12\n",
      "array3의 행길이: 4\n",
      "array3의 행길이: 4\n",
      "array3의 차원: 2\n"
     ]
    }
   ],
   "source": [
    "array3 = np.random.randint(0,10,(4,3))\n",
    "print(array3)\n",
    "print('================================')\n",
    "print('array3의 모양 :', array3.shape)\n",
    "print('array3의 크기 :', array3.size)\n",
    "print('array3의 행길이:', array3.shape[0])\n",
    "print('array3의 행길이:', len(array3))\n",
    "print('array3의 차원:', array3.ndim)"
   ]
  },
  {
   "cell_type": "markdown",
   "id": "f52d2db7",
   "metadata": {},
   "source": [
    "###### 참고) array의 ndim은 array shape의 길이, 즉, len(array.shape)과 같음"
   ]
  },
  {
   "cell_type": "markdown",
   "id": "9c43184f",
   "metadata": {},
   "source": [
    "##### list를 array로"
   ]
  },
  {
   "cell_type": "code",
   "execution_count": 6,
   "id": "1f83615c",
   "metadata": {},
   "outputs": [
    {
     "name": "stdout",
     "output_type": "stream",
     "text": [
      "2차원 array를 list로 바꾸면: [[0, 7, 6], [5, 1, 9], [9, 0, 2], [6, 6, 9]]\n",
      "1차원 array를 list로 바꾸면: [0, 5, 3, 3, 1]\n"
     ]
    }
   ],
   "source": [
    "list3 = array3.tolist()\n",
    "print('2차원 array를 list로 바꾸면:', list3)\n",
    "list2_2 = array2.tolist()\n",
    "print('1차원 array를 list로 바꾸면:', list2)"
   ]
  },
  {
   "cell_type": "markdown",
   "id": "a73e860e",
   "metadata": {},
   "source": [
    "##### array 원하는 배열 추출하기\n",
    "###### slicing & indexing "
   ]
  },
  {
   "cell_type": "code",
   "execution_count": 7,
   "id": "55ddb444",
   "metadata": {},
   "outputs": [
    {
     "name": "stdout",
     "output_type": "stream",
     "text": [
      "[6 6 9]\n",
      "row3의 모양: (3,)\n",
      "row3_1의 모양: (3,)\n",
      "====================\n",
      "<built-in function len>\n",
      "[6 9 2 9]\n",
      "col2의 모양: (4,)\n"
     ]
    }
   ],
   "source": [
    "# 열 추출 \n",
    "row3 = array3[3]\n",
    "row3_1 = array3[3,:]\n",
    "print(row3)\n",
    "print('row3의 모양:', row3.shape)\n",
    "print('row3_1의 모양:', row3_1.shape)\n",
    "print('====================')\n",
    "print(len)\n",
    "# 행 추출\n",
    "col2 = array3[:,2]\n",
    "print(col2)\n",
    "print('col2의 모양:', col2.shape)\n",
    "## 열방향으로 추출하든, 행방향으로 추출하든 결과물의 모양은 같다."
   ]
  },
  {
   "cell_type": "markdown",
   "id": "08517612",
   "metadata": {},
   "source": [
    "좀더 고급진 방법이 있다"
   ]
  },
  {
   "cell_type": "code",
   "execution_count": 42,
   "id": "c9dda0b0",
   "metadata": {},
   "outputs": [
    {
     "name": "stdout",
     "output_type": "stream",
     "text": [
      "[[4 0 9]\n",
      " [5 2 5]\n",
      " [4 3 6]\n",
      " [0 8 7]]\n",
      "---------------\n",
      "[[ True False  True]\n",
      " [ True False  True]\n",
      " [ True False  True]\n",
      " [False  True  True]]\n",
      "---------------\n",
      "[4 9 5 5 4 6 8 7]\n"
     ]
    }
   ],
   "source": [
    "# Boolean indexing\n",
    "array4 = np.random.randint(0,10,(4,3))\n",
    "print(array4)\n",
    "print('---------------')\n",
    "bool_array4 = array4 > 3\n",
    "print(bool_array4)\n",
    "print('---------------')\n",
    "print(array4[bool_array4])"
   ]
  },
  {
   "cell_type": "code",
   "execution_count": 49,
   "id": "f48b5651",
   "metadata": {},
   "outputs": [
    {
     "name": "stdout",
     "output_type": "stream",
     "text": [
      "[[6 5 5 3 0]\n",
      " [3 7 2 0 4]\n",
      " [8 0 0 5 5]\n",
      " [1 4 5 3 4]\n",
      " [6 9 0 8 4]\n",
      " [2 1 8 5 0]]\n",
      "---------------\n",
      "[[6 5 5 3 0]\n",
      " [8 0 0 5 5]\n",
      " [6 9 0 8 4]]\n",
      "---------------\n",
      "[[6 5 0]\n",
      " [3 2 4]\n",
      " [8 0 5]\n",
      " [1 5 4]\n",
      " [6 0 4]\n",
      " [2 8 0]]\n"
     ]
    }
   ],
   "source": [
    "# fancy indexing\n",
    "array5 = np.random.randint(0,10,(6,5))\n",
    "print(array5)\n",
    "print('---------------')\n",
    "idx = [0,2,4]\n",
    "print(array5[idx])\n",
    "print('---------------')\n",
    "print(array5[:, idx])"
   ]
  },
  {
   "cell_type": "markdown",
   "id": "7ee9beee",
   "metadata": {},
   "source": [
    "#### array 연결하기\n",
    "##### concatenate / stack / vstack / hstack\n",
    "###### 위에서 생성한 row3이나 col2 처럼 (k, ) 모양의 array를 차곡차곡 쌓고 싶다면.."
   ]
  },
  {
   "cell_type": "code",
   "execution_count": 8,
   "id": "046038a3",
   "metadata": {},
   "outputs": [
    {
     "name": "stdout",
     "output_type": "stream",
     "text": [
      "concatenate 사용: (40,)\n",
      "hstack 사용: (40,)\n"
     ]
    }
   ],
   "source": [
    "building1 = np.array([])\n",
    "building2 = np.array([])\n",
    "\n",
    "\n",
    "for i in range(0, 5):\n",
    "    block = np.random.randn(8,)   ### 여러가지 random 모듈에 관한 설명은 다음 블록에서 확인\n",
    "    building1 = np.concatenate((building1, block))\n",
    "    building2 = np.hstack((building2, block))\n",
    "\n",
    "print('concatenate 사용:', building1.shape)\n",
    "print('hstack 사용:', building2.shape)"
   ]
  },
  {
   "cell_type": "code",
   "execution_count": 9,
   "id": "704992d6",
   "metadata": {},
   "outputs": [
    {
     "ename": "ValueError",
     "evalue": "all the input array dimensions for the concatenation axis must match exactly, but along dimension 1, the array at index 0 has size 0 and the array at index 1 has size 8",
     "output_type": "error",
     "traceback": [
      "\u001b[1;31m---------------------------------------------------------------------------\u001b[0m",
      "\u001b[1;31mValueError\u001b[0m                                Traceback (most recent call last)",
      "\u001b[1;32m~\\AppData\\Local\\Temp/ipykernel_29008/2884376894.py\u001b[0m in \u001b[0;36m<module>\u001b[1;34m\u001b[0m\n\u001b[0;32m      4\u001b[0m \u001b[1;32mfor\u001b[0m \u001b[0mi\u001b[0m \u001b[1;32min\u001b[0m \u001b[0mrange\u001b[0m\u001b[1;33m(\u001b[0m\u001b[1;36m0\u001b[0m\u001b[1;33m,\u001b[0m \u001b[1;36m5\u001b[0m\u001b[1;33m)\u001b[0m\u001b[1;33m:\u001b[0m\u001b[1;33m\u001b[0m\u001b[1;33m\u001b[0m\u001b[0m\n\u001b[0;32m      5\u001b[0m     \u001b[0mblock\u001b[0m \u001b[1;33m=\u001b[0m \u001b[0mnp\u001b[0m\u001b[1;33m.\u001b[0m\u001b[0mrandom\u001b[0m\u001b[1;33m.\u001b[0m\u001b[0mrandn\u001b[0m\u001b[1;33m(\u001b[0m\u001b[1;36m8\u001b[0m\u001b[1;33m,\u001b[0m\u001b[1;33m)\u001b[0m\u001b[1;33m\u001b[0m\u001b[1;33m\u001b[0m\u001b[0m\n\u001b[1;32m----> 6\u001b[1;33m     \u001b[0mbuilding3\u001b[0m \u001b[1;33m=\u001b[0m \u001b[0mnp\u001b[0m\u001b[1;33m.\u001b[0m\u001b[0mvstack\u001b[0m\u001b[1;33m(\u001b[0m\u001b[1;33m(\u001b[0m\u001b[0mbuilding3\u001b[0m\u001b[1;33m,\u001b[0m \u001b[0mblock\u001b[0m\u001b[1;33m)\u001b[0m\u001b[1;33m)\u001b[0m\u001b[1;33m\u001b[0m\u001b[1;33m\u001b[0m\u001b[0m\n\u001b[0m\u001b[0;32m      7\u001b[0m     \u001b[0mbuilding4\u001b[0m \u001b[1;33m=\u001b[0m \u001b[0mnp\u001b[0m\u001b[1;33m.\u001b[0m\u001b[0mstack\u001b[0m\u001b[1;33m(\u001b[0m\u001b[1;33m(\u001b[0m\u001b[0mbuilding4\u001b[0m\u001b[1;33m,\u001b[0m \u001b[0mblock\u001b[0m\u001b[1;33m)\u001b[0m\u001b[1;33m)\u001b[0m\u001b[1;33m\u001b[0m\u001b[1;33m\u001b[0m\u001b[0m\n\u001b[0;32m      8\u001b[0m \u001b[1;33m\u001b[0m\u001b[0m\n",
      "\u001b[1;32m<__array_function__ internals>\u001b[0m in \u001b[0;36mvstack\u001b[1;34m(*args, **kwargs)\u001b[0m\n",
      "\u001b[1;32mc:\\Users\\user\\anaconda3\\lib\\site-packages\\numpy\\core\\shape_base.py\u001b[0m in \u001b[0;36mvstack\u001b[1;34m(tup)\u001b[0m\n\u001b[0;32m    281\u001b[0m     \u001b[1;32mif\u001b[0m \u001b[1;32mnot\u001b[0m \u001b[0misinstance\u001b[0m\u001b[1;33m(\u001b[0m\u001b[0marrs\u001b[0m\u001b[1;33m,\u001b[0m \u001b[0mlist\u001b[0m\u001b[1;33m)\u001b[0m\u001b[1;33m:\u001b[0m\u001b[1;33m\u001b[0m\u001b[1;33m\u001b[0m\u001b[0m\n\u001b[0;32m    282\u001b[0m         \u001b[0marrs\u001b[0m \u001b[1;33m=\u001b[0m \u001b[1;33m[\u001b[0m\u001b[0marrs\u001b[0m\u001b[1;33m]\u001b[0m\u001b[1;33m\u001b[0m\u001b[1;33m\u001b[0m\u001b[0m\n\u001b[1;32m--> 283\u001b[1;33m     \u001b[1;32mreturn\u001b[0m \u001b[0m_nx\u001b[0m\u001b[1;33m.\u001b[0m\u001b[0mconcatenate\u001b[0m\u001b[1;33m(\u001b[0m\u001b[0marrs\u001b[0m\u001b[1;33m,\u001b[0m \u001b[1;36m0\u001b[0m\u001b[1;33m)\u001b[0m\u001b[1;33m\u001b[0m\u001b[1;33m\u001b[0m\u001b[0m\n\u001b[0m\u001b[0;32m    284\u001b[0m \u001b[1;33m\u001b[0m\u001b[0m\n\u001b[0;32m    285\u001b[0m \u001b[1;33m\u001b[0m\u001b[0m\n",
      "\u001b[1;32m<__array_function__ internals>\u001b[0m in \u001b[0;36mconcatenate\u001b[1;34m(*args, **kwargs)\u001b[0m\n",
      "\u001b[1;31mValueError\u001b[0m: all the input array dimensions for the concatenation axis must match exactly, but along dimension 1, the array at index 0 has size 0 and the array at index 1 has size 8"
     ]
    }
   ],
   "source": [
    "building3 = np.array([])   # shape : (0,)\n",
    "building4 = np.array([])\n",
    "\n",
    "for i in range(0, 5):\n",
    "    block = np.random.randn(8,)  \n",
    "    building3 = np.vstack((building3, block))     \n",
    "    building4 = np.stack((building4, block))\n",
    "\n",
    "print('vstack 사용:', building3.shape)\n",
    "print('stack 사용:', building4.shape)"
   ]
  },
  {
   "cell_type": "markdown",
   "id": "0ebc788a",
   "metadata": {},
   "source": [
    "##### np.reshape을 사용해보자"
   ]
  },
  {
   "cell_type": "code",
   "execution_count": 10,
   "id": "527d0a0c",
   "metadata": {},
   "outputs": [
    {
     "ename": "ValueError",
     "evalue": "cannot reshape array of size 0 into shape (8,)",
     "output_type": "error",
     "traceback": [
      "\u001b[1;31m---------------------------------------------------------------------------\u001b[0m",
      "\u001b[1;31mValueError\u001b[0m                                Traceback (most recent call last)",
      "\u001b[1;32m~\\AppData\\Local\\Temp/ipykernel_29008/3345444432.py\u001b[0m in \u001b[0;36m<module>\u001b[1;34m\u001b[0m\n\u001b[1;32m----> 1\u001b[1;33m \u001b[0mbuilding3\u001b[0m \u001b[1;33m=\u001b[0m \u001b[0mnp\u001b[0m\u001b[1;33m.\u001b[0m\u001b[0mreshape\u001b[0m\u001b[1;33m(\u001b[0m\u001b[0mnp\u001b[0m\u001b[1;33m.\u001b[0m\u001b[0marray\u001b[0m\u001b[1;33m(\u001b[0m\u001b[1;33m[\u001b[0m\u001b[1;33m]\u001b[0m\u001b[1;33m)\u001b[0m\u001b[1;33m,\u001b[0m \u001b[1;33m(\u001b[0m\u001b[1;36m8\u001b[0m\u001b[1;33m,\u001b[0m\u001b[1;33m)\u001b[0m\u001b[1;33m)\u001b[0m\u001b[1;33m\u001b[0m\u001b[1;33m\u001b[0m\u001b[0m\n\u001b[0m\u001b[0;32m      2\u001b[0m \u001b[0mbuilding4\u001b[0m \u001b[1;33m=\u001b[0m \u001b[0mnp\u001b[0m\u001b[1;33m.\u001b[0m\u001b[0mreshape\u001b[0m\u001b[1;33m(\u001b[0m\u001b[0mnp\u001b[0m\u001b[1;33m.\u001b[0m\u001b[0marray\u001b[0m\u001b[1;33m(\u001b[0m\u001b[1;33m[\u001b[0m\u001b[1;33m]\u001b[0m\u001b[1;33m)\u001b[0m\u001b[1;33m,\u001b[0m \u001b[1;33m(\u001b[0m\u001b[1;36m8\u001b[0m\u001b[1;33m,\u001b[0m\u001b[1;33m)\u001b[0m\u001b[1;33m)\u001b[0m\u001b[1;33m\u001b[0m\u001b[1;33m\u001b[0m\u001b[0m\n",
      "\u001b[1;32m<__array_function__ internals>\u001b[0m in \u001b[0;36mreshape\u001b[1;34m(*args, **kwargs)\u001b[0m\n",
      "\u001b[1;32mc:\\Users\\user\\anaconda3\\lib\\site-packages\\numpy\\core\\fromnumeric.py\u001b[0m in \u001b[0;36mreshape\u001b[1;34m(a, newshape, order)\u001b[0m\n\u001b[0;32m    297\u001b[0m            [5, 6]])\n\u001b[0;32m    298\u001b[0m     \"\"\"\n\u001b[1;32m--> 299\u001b[1;33m     \u001b[1;32mreturn\u001b[0m \u001b[0m_wrapfunc\u001b[0m\u001b[1;33m(\u001b[0m\u001b[0ma\u001b[0m\u001b[1;33m,\u001b[0m \u001b[1;34m'reshape'\u001b[0m\u001b[1;33m,\u001b[0m \u001b[0mnewshape\u001b[0m\u001b[1;33m,\u001b[0m \u001b[0morder\u001b[0m\u001b[1;33m=\u001b[0m\u001b[0morder\u001b[0m\u001b[1;33m)\u001b[0m\u001b[1;33m\u001b[0m\u001b[1;33m\u001b[0m\u001b[0m\n\u001b[0m\u001b[0;32m    300\u001b[0m \u001b[1;33m\u001b[0m\u001b[0m\n\u001b[0;32m    301\u001b[0m \u001b[1;33m\u001b[0m\u001b[0m\n",
      "\u001b[1;32mc:\\Users\\user\\anaconda3\\lib\\site-packages\\numpy\\core\\fromnumeric.py\u001b[0m in \u001b[0;36m_wrapfunc\u001b[1;34m(obj, method, *args, **kwds)\u001b[0m\n\u001b[0;32m     56\u001b[0m \u001b[1;33m\u001b[0m\u001b[0m\n\u001b[0;32m     57\u001b[0m     \u001b[1;32mtry\u001b[0m\u001b[1;33m:\u001b[0m\u001b[1;33m\u001b[0m\u001b[1;33m\u001b[0m\u001b[0m\n\u001b[1;32m---> 58\u001b[1;33m         \u001b[1;32mreturn\u001b[0m \u001b[0mbound\u001b[0m\u001b[1;33m(\u001b[0m\u001b[1;33m*\u001b[0m\u001b[0margs\u001b[0m\u001b[1;33m,\u001b[0m \u001b[1;33m**\u001b[0m\u001b[0mkwds\u001b[0m\u001b[1;33m)\u001b[0m\u001b[1;33m\u001b[0m\u001b[1;33m\u001b[0m\u001b[0m\n\u001b[0m\u001b[0;32m     59\u001b[0m     \u001b[1;32mexcept\u001b[0m \u001b[0mTypeError\u001b[0m\u001b[1;33m:\u001b[0m\u001b[1;33m\u001b[0m\u001b[1;33m\u001b[0m\u001b[0m\n\u001b[0;32m     60\u001b[0m         \u001b[1;31m# A TypeError occurs if the object does have such a method in its\u001b[0m\u001b[1;33m\u001b[0m\u001b[1;33m\u001b[0m\u001b[0m\n",
      "\u001b[1;31mValueError\u001b[0m: cannot reshape array of size 0 into shape (8,)"
     ]
    }
   ],
   "source": [
    "building3 = np.reshape(np.array([]), (8,))  \n",
    "building4 = np.reshape(np.array([]), (8,))"
   ]
  },
  {
   "cell_type": "markdown",
   "id": "531798a5",
   "metadata": {},
   "source": [
    "##### 안됨...\n",
    "##### zeros 를 사용하는 수밖에 없다."
   ]
  },
  {
   "cell_type": "code",
   "execution_count": 11,
   "id": "c87d9143",
   "metadata": {},
   "outputs": [
    {
     "name": "stdout",
     "output_type": "stream",
     "text": [
      "vstack 사용: (6, 8)\n"
     ]
    }
   ],
   "source": [
    "building3 = np.zeros((8,))  # shape : (8,0)\n",
    "building4 = np.zeros((8,))\n",
    "\n",
    "for i in range(0, 5):\n",
    "    block = np.random.randn(8,)  \n",
    "    building3 = np.vstack((building3, block))     \n",
    "    #building4 = np.stack((building4, block))\n",
    "\n",
    "print('vstack 사용:', building3.shape)\n",
    "#print('stack 사용:', building4.shape)"
   ]
  },
  {
   "cell_type": "markdown",
   "id": "3c542458",
   "metadata": {},
   "source": [
    "##### 대신 맨 위 열이 빈 array가 아니라 모든 값이 0인 array를 넣은 것이라서 행의 갯수가 5가 아니라 6임\n",
    "##### 나중에 데이터 분석할 때 거슬리면 np.delete(building3, 0, axis = 0)으로 지우면 됨\n",
    "##### np.stack을 주석처리한 이유는?? => 돌리면 이건 여전히 오류남 ValueError: all input arrays must have the same shape\n",
    "##### 아래와 같이 한번만 쌓는게 가능하다..."
   ]
  },
  {
   "cell_type": "code",
   "execution_count": 12,
   "id": "370b075e",
   "metadata": {},
   "outputs": [
    {
     "name": "stdout",
     "output_type": "stream",
     "text": [
      "stack 사용: (2, 8)\n",
      "axis=1로 했을 때: (8, 2)\n"
     ]
    }
   ],
   "source": [
    "building4 = np.zeros((8,))\n",
    "building5 = np.zeros((8,))\n",
    "\n",
    "for i in range(0, 1):  ###########\n",
    "    block = np.random.randn(8,)   \n",
    "    building4 = np.stack((building4, block))\n",
    "    building5 = np.stack((building5, block), axis = 1)\n",
    "\n",
    "print('stack 사용:', building4.shape)\n",
    "print('axis=1로 했을 때:', building5.shape)  ##### default는 axis = 0"
   ]
  },
  {
   "cell_type": "markdown",
   "id": "dc0fb755",
   "metadata": {},
   "source": [
    "##### (k, )는 그렇고, 모양이 (n,m)인 array를 연결하는 건 어떻게?"
   ]
  },
  {
   "cell_type": "code",
   "execution_count": 13,
   "metadata": {},
   "outputs": [
    {
     "name": "stdout",
     "output_type": "stream",
     "text": [
      "concatenate 사용: (12, 3)\n",
      "vstack 사용: (12, 3)\n"
     ]
    }
   ],
   "source": [
    "building6 = np.empty(shape=[0,3])  # <- 여기가 중요!! 차원의 갯수를 맞춰줘야함.\n",
    "building7 = np.empty(shape=[0,3])\n",
    "\n",
    "for i in range(0, 3):  \n",
    "    block = np.random.randint(0,5,(4,3))   \n",
    "    building6 = np.concatenate((building6, block))\n",
    "    building7 = np.vstack((building7, block))\n",
    "\n",
    "print('concatenate 사용:', building6.shape)\n",
    "print('vstack 사용:', building7.shape)"
   ]
  },
  {
   "cell_type": "code",
   "execution_count": 14,
   "id": "dba43d13",
   "metadata": {},
   "outputs": [
    {
     "name": "stdout",
     "output_type": "stream",
     "text": [
      "concatenate 사용: (4, 9)\n",
      "hstack 사용: (4, 9)\n"
     ]
    }
   ],
   "source": [
    "building8 = np.empty(shape=[4,0])  # <- 여기가 중요!! 차원의 갯수를 맞춰줘야함.\n",
    "building9 = np.empty(shape=[4,0]) \n",
    "for i in range(0, 3):  \n",
    "    block = np.random.randint(0,5,(4,3))   \n",
    "    building8 = np.concatenate((building8, block), axis=1)\n",
    "    building9 = np.hstack((building9, block))\n",
    "\n",
    "print('concatenate 사용:', building8.shape)\n",
    "print('hstack 사용:', building9.shape)\n"
   ]
  },
  {
   "cell_type": "markdown",
   "id": "2dd89e07",
   "metadata": {},
   "source": [
    "###### 그럼 도대체 stack은 왜 따로 있는 걸까..?\n",
    "#### stack의 진정한 사용처!!"
   ]
  },
  {
   "cell_type": "code",
   "execution_count": 23,
   "id": "29520de9",
   "metadata": {},
   "outputs": [
    {
     "name": "stdout",
     "output_type": "stream",
     "text": [
      "stack 사용: (2, 4, 3)\n",
      "stack(axis=1) 사용: (4, 2, 3)\n",
      "=====================================\n",
      "axis = 0: (2, 2, 4, 3)\n",
      "axis = 1: (2, 2, 4, 3)\n",
      "axis = 2: (2, 4, 2, 3)\n",
      "axis = 3: (2, 4, 3, 2)\n"
     ]
    }
   ],
   "source": [
    "building10 = np.empty(shape=[4,3])   \n",
    "building11 = np.empty(shape=[4,3]) \n",
    "for i in range(0, 1):  \n",
    "    block = np.random.randint(0,5,(4,3))   \n",
    "    building10 = np.stack((building10, block), axis=0)\n",
    "    building11 = np.stack((building11, block), axis=1)\n",
    "print('stack 사용:', building10.shape)\n",
    "print('stack(axis=1) 사용:', building11.shape)\n",
    "print('=====================================')\n",
    "building10_1 = np.empty(shape=[2, 4, 3]) \n",
    "\n",
    "building10_2 = np.stack((building10, building10_1))\n",
    "building10_3 = np.stack((building10, building10_1), axis=1)\n",
    "building10_4 = np.stack((building10, building10_1), axis=2)\n",
    "building10_5 = np.stack((building10, building10_1), axis=3)\n",
    "\n",
    "print('axis = 0:', building10_2.shape)\n",
    "print('axis = 1:', building10_3.shape)\n",
    "print('axis = 2:', building10_4.shape)\n",
    "print('axis = 3:', building10_5.shape)\n"
   ]
  },
  {
   "cell_type": "markdown",
   "id": "f9ee10fa",
   "metadata": {},
   "source": [
    "## np.random module\n",
    "### randint() / rand() / randn()"
   ]
  },
  {
   "cell_type": "code",
   "execution_count": 35,
   "id": "74f4867c",
   "metadata": {},
   "outputs": [
    {
     "name": "stdout",
     "output_type": "stream",
     "text": [
      "<np.random.randint()>\n",
      "3\n",
      "----------------------------------\n",
      "[[2 8 4]\n",
      " [1 3 1]\n",
      " [6 5 4]\n",
      " [8 9 4]]\n",
      "----------------------------------\n",
      "<np.random.rand()>\n",
      "[0.83587785 0.33415253 0.89594629 0.78869216 0.38098101]\n",
      "----------------------------------\n",
      "[[0.22662999 0.87344141 0.42091175]\n",
      " [0.32613355 0.89645217 0.40173652]\n",
      " [0.6497207  0.07211041 0.38301687]\n",
      " [0.33261723 0.81577267 0.87909607]]\n",
      "----------------------------------\n",
      "<np.random.randn()>\n",
      "[ 0.10528475  1.28165277  0.1233065  -0.60488352  0.20410853]\n",
      "----------------------------------\n",
      "[[-0.42794828  0.86784517 -0.1629436 ]\n",
      " [-0.59451772  0.43574318  1.69058701]\n",
      " [ 0.39038417 -0.09192018  1.10723121]\n",
      " [ 0.09416711  0.88144623 -1.24009184]]\n"
     ]
    }
   ],
   "source": [
    "print('<np.random.randint()>')\n",
    "print(np.random.randint(5))           # 0-4 사이의 랜덤 정수 한개 뽑아 줌\n",
    "print('----------------------------------')\n",
    "print(np.random.randint(1,10,(4,3)))  # 1-9 사이의 랜덤 정수를 뽑아 shape (4,3) 인 array 생성\n",
    "print('----------------------------------')\n",
    "print('<np.random.rand()>')\n",
    "print(np.random.rand(5))              # 0-1 사이의 실수를 5개 뽑아서 array 생성\n",
    "print('----------------------------------')\n",
    "print(np.random.rand(4,3))\n",
    "print('----------------------------------')\n",
    "print('<np.random.randn()>')\n",
    "print(np.random.randn(5))             # 표준정규분포(N(0,1))에서 5개 숫자를 뽑아서 array 생성\n",
    "print('----------------------------------')\n",
    "print(np.random.randn(4,3))\n"
   ]
  },
  {
   "cell_type": "markdown",
   "id": "ffe16ea1",
   "metadata": {},
   "source": [
    "그 외 알아두면 유용한 함수들"
   ]
  },
  {
   "cell_type": "markdown",
   "id": "4da5b571",
   "metadata": {},
   "source": [
    "1. np.arange() : list의 range()와 유사한 함수\n",
    "2. np.linspace()"
   ]
  },
  {
   "cell_type": "code",
   "execution_count": 51,
   "id": "f2c666f2",
   "metadata": {},
   "outputs": [
    {
     "data": {
      "text/plain": [
       "array([[1, 2, 3],\n",
       "       [4, 5, 6],\n",
       "       [7, 8, 9]])"
      ]
     },
     "execution_count": 51,
     "metadata": {},
     "output_type": "execute_result"
    }
   ],
   "source": [
    "array6 = np.arange(1, 10) \n",
    "array6.reshape(3,-1) # 대신 array6의 길이가 3으로 안나눠떨어지면 오류남\n"
   ]
  },
  {
   "cell_type": "code",
   "execution_count": 61,
   "id": "1c1dd7e6",
   "metadata": {},
   "outputs": [
    {
     "name": "stdout",
     "output_type": "stream",
     "text": [
      "[1 3 5 7]\n",
      "[1 3 5 7]\n"
     ]
    }
   ],
   "source": [
    "print(np.arange(1, 8, 2))  # start, stop, step\n",
    "print(np.arange(1, 9, 2))  # 단, (stop 숫자 - 1) 까지만 나타냄"
   ]
  },
  {
   "cell_type": "code",
   "execution_count": 62,
   "id": "5a08eb88",
   "metadata": {},
   "outputs": [
    {
     "data": {
      "text/plain": [
       "array([ 1.,  9., 17.])"
      ]
     },
     "execution_count": 62,
     "metadata": {},
     "output_type": "execute_result"
    }
   ],
   "source": [
    "np.linspace(1, 17, 3)  # start, stop, count"
   ]
  },
  {
   "cell_type": "markdown",
   "id": "8d38b62e",
   "metadata": {},
   "source": [
    "sum, mean, min, max : axis 선정이 중요함"
   ]
  },
  {
   "cell_type": "code",
   "execution_count": 84,
   "id": "9ec90cf8",
   "metadata": {},
   "outputs": [
    {
     "name": "stdout",
     "output_type": "stream",
     "text": [
      "[[6 3 6 6 7]\n",
      " [3 1 9 3 8]\n",
      " [9 1 7 5 5]\n",
      " [4 4 5 8 3]]\n",
      "------------------------------\n",
      "array.sum() : 모든 수 다 더한 것\n",
      "103\n",
      "------------------------------\n",
      "sum(array) : 행 값을 다 더한 것\n",
      "[22  9 27 22 23]\n",
      "------------------------------\n",
      "array.sum(axis=1) : 열 값을 다 더한 것\n",
      "[28 24 27 24]\n",
      "------------------------------\n",
      "array.mean() : 모든 값의 평균\n",
      "5.15\n",
      "------------------------------\n",
      "array.mean(axis=0) : 각 열의 평균을 얻을 수 있음\n",
      "[5.5  2.25 6.75 5.5  5.75]\n",
      "[5.5  2.25 6.75 5.5  5.75]\n",
      "------------------------------\n",
      "array.mean(axis=1) : 각 행의 평균을 얻을 수 있음\n",
      "[5.6 4.8 5.4 4.8]\n",
      "[5.6 4.8 5.4 4.8]\n"
     ]
    }
   ],
   "source": [
    "array7 = np.random.randint(1,10,(4,5))\n",
    "print(array7)\n",
    "print('------------------------------')\n",
    "print('array.sum() : 모든 수 다 더한 것')\n",
    "print(array7.sum())\n",
    "print('------------------------------')\n",
    "print('sum(array) : 행 값을 다 더한 것')\n",
    "print(sum(array7))\n",
    "print('------------------------------')\n",
    "print('array.sum(axis=1) : 열 값을 다 더한 것')\n",
    "print(array7.sum(axis=1))   # sum(array7, axis=1) 이렇게는 못씀\n",
    "print('------------------------------')\n",
    "print('array.mean() : 모든 값의 평균')\n",
    "print(array7.mean())\n",
    "print('------------------------------')\n",
    "print('array.mean(axis=0) : 각 열의 평균을 얻을 수 있음')\n",
    "print(array7.mean(axis=0))\n",
    "print(sum(array7)/array7.shape[0])\n",
    "print('------------------------------')\n",
    "print('array.mean(axis=1) : 각 행의 평균을 얻을 수 있음')\n",
    "print(array7.mean(axis=1))\n",
    "print(array7.sum(axis=1)/array7.shape[1])\n",
    "\n"
   ]
  },
  {
   "cell_type": "markdown",
   "id": "22bf7b95",
   "metadata": {},
   "source": [
    "np.where() : 조건, 참인 경우 넣어줄 것, 거짓일 경우 넣어줄 것\n"
   ]
  },
  {
   "cell_type": "code",
   "execution_count": 87,
   "id": "59a563a7",
   "metadata": {},
   "outputs": [
    {
     "data": {
      "text/plain": [
       "array([ 1, -2,  3, -4,  5])"
      ]
     },
     "execution_count": 87,
     "metadata": {},
     "output_type": "execute_result"
    }
   ],
   "source": [
    "truearr = np.array([1,2,3,4,5])\n",
    "falsearr = np.array([-1, -2, -3, -4, -5])\n",
    "condition = np.array([True, False, True, False, True])\n",
    "np.where(condition, truearr, falsearr)"
   ]
  },
  {
   "cell_type": "code",
   "execution_count": 91,
   "id": "afd67d78",
   "metadata": {},
   "outputs": [
    {
     "name": "stdout",
     "output_type": "stream",
     "text": [
      "[[-0.78771476  0.38051749 -1.92372397 -0.68818648]\n",
      " [ 1.34717698 -0.8975977   0.21503322 -0.60139842]\n",
      " [ 1.32290883  0.14650228  0.45985075 -1.35979481]\n",
      " [-1.27317116  1.63183147 -0.08278731 -0.07674923]]\n"
     ]
    },
    {
     "data": {
      "text/plain": [
       "array([['음수', '양수', '음수', '음수'],\n",
       "       ['양수', '음수', '양수', '음수'],\n",
       "       ['양수', '양수', '양수', '음수'],\n",
       "       ['음수', '양수', '음수', '음수']], dtype='<U2')"
      ]
     },
     "execution_count": 91,
     "metadata": {},
     "output_type": "execute_result"
    }
   ],
   "source": [
    "array8 = np.random.randn(4, 4)\n",
    "print(array8)\n",
    "np.where(array8 >= 0, '양수', '음수')"
   ]
  },
  {
   "cell_type": "markdown",
   "id": "7b43aa5b",
   "metadata": {},
   "source": [
    "배열 참조 방지하기 : copy()"
   ]
  },
  {
   "cell_type": "code",
   "execution_count": 100,
   "id": "4c6fa7e3",
   "metadata": {},
   "outputs": [
    {
     "name": "stdout",
     "output_type": "stream",
     "text": [
      "array9: [[9 3 4 7 1]\n",
      " [5 2 8 4 7]\n",
      " [9 8 4 1 8]\n",
      " [9 7 5 5 8]]\n",
      "array9_1: [1 7 8 8]\n",
      "--------------------------\n",
      "array9_1: [1234    7    8    8]\n",
      "array9: [[   9    3    4    7 1234]\n",
      " [   5    2    8    4    7]\n",
      " [   9    8    4    1    8]\n",
      " [   9    7    5    5    8]]\n"
     ]
    }
   ],
   "source": [
    "array9 = np.random.randint(1,10, (4,5))\n",
    "print('array9:',array9)\n",
    "array9_1 = array9[:,4]\n",
    "print('array9_1:',array9_1)\n",
    "\n",
    "array9_1[0] = 1234\n",
    "print('--------------------------')\n",
    "print('array9_1:',array9_1)\n",
    "print('array9:',array9)"
   ]
  },
  {
   "cell_type": "code",
   "execution_count": 102,
   "id": "2baf63f0",
   "metadata": {},
   "outputs": [
    {
     "name": "stdout",
     "output_type": "stream",
     "text": [
      "array9_1: [1234    7    8    8]\n",
      "--------------------------\n",
      "array9_1: [1234    7    8 4321]\n",
      "array9: [[   9    3    4    7 1234]\n",
      " [   5    2    8    4    7]\n",
      " [   9    8    4    1    8]\n",
      " [   9    7    5    5    8]]\n"
     ]
    }
   ],
   "source": [
    "array9_1 = array9[:,4].copy()\n",
    "print('array9_1:',array9_1)\n",
    "\n",
    "array9_1[3] = 4321\n",
    "print('--------------------------')\n",
    "print('array9_1:',array9_1)\n",
    "print('array9:',array9)"
   ]
  },
  {
   "cell_type": "markdown",
   "id": "890dbccc",
   "metadata": {},
   "source": [
    "파일 저장 또는 불러오기 : save / load"
   ]
  },
  {
   "cell_type": "code",
   "execution_count": null,
   "id": "a63b1cf8",
   "metadata": {},
   "outputs": [],
   "source": [
    "np.save('my_arr', array1)  # .npy라는 파일로 저장됨\n",
    "# 다중 배열 저장하기\n",
    "np.savez('my_arrz', key1=array2, key2=array3)\n",
    "loaded_arr = np.load('my_arrz.npy')\n",
    "loaded_arr.files # [key1, key2] 저장된 key값을 조회할 수 있음"
   ]
  },
  {
   "cell_type": "markdown",
   "id": "babaf117",
   "metadata": {},
   "source": []
  },
  {
   "cell_type": "code",
   "execution_count": null,
   "id": "cdc72a97",
   "metadata": {},
   "outputs": [],
   "source": []
  }
 ],
 "metadata": {
  "kernelspec": {
   "display_name": "Python 3.9.7 ('base')",
   "language": "python",
   "name": "python3"
  },
  "language_info": {
   "codemirror_mode": {
    "name": "ipython",
    "version": 3
   },
   "file_extension": ".py",
   "mimetype": "text/x-python",
   "name": "python",
   "nbconvert_exporter": "python",
   "pygments_lexer": "ipython3",
   "version": "3.9.7"
  },
  "vscode": {
   "interpreter": {
    "hash": "a077222d77dfe082b8f1dd562ad70e458ac2ab76993a0b248ab0476e32e9e8dd"
   }
  }
 },
 "nbformat": 4,
 "nbformat_minor": 5
}
