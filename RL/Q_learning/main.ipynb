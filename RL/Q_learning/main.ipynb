{
 "cells": [
  {
   "cell_type": "code",
   "execution_count": 1,
   "metadata": {},
   "outputs": [],
   "source": [
    "import numpy as np\n",
    "import matplotlib.pyplot as plt\n",
    "from collections import deque, defaultdict\n",
    "from GridWorld import GridWorld"
   ]
  },
  {
   "cell_type": "code",
   "execution_count": 2,
   "metadata": {},
   "outputs": [],
   "source": [
    "class Q_learning():\n",
    "    def __init__(self, environment, epsilon=0.05, alpha=0.01, gamma=0.99):\n",
    "        self.Q_table = defaultdict(lambda: np.zeros(4)) # Q_table = {\"state\":(Q(s,UP),Q(s,DOWN),Q(s,LEFT),Q(s,RIGHT),)}\n",
    "        self.epsilon = epsilon\n",
    "        self.alpha = alpha\n",
    "        self.gamma = gamma\n",
    "        self.actions = environment.actions # ['UP', 'DOWN', 'LEFT', 'RIGHT']\n",
    "        self.env_row_max = environment.row_max\n",
    "        self.env_col_max = environment.col_max\n",
    "\n",
    "    def action(self, state):\n",
    "        '''\n",
    "        In this code, you have to implement the behavior policy (epsilon-greedy policy) w.r.t. the Q-table.\n",
    "        The policy takes a state and then samples an action among  ['UP', 'DOWN', 'LEFT', 'RIGHT'],\n",
    "        and you can index the above actions as [0, 1, 2, 3]. Use \"self.epsilon\" and \"self.Q_table\".\n",
    "        '''\n",
    "        #your codes here\n",
    "\n",
    "        action_indexes = np.array([0, 1, 2, 3])\n",
    "        if np.random.rand(1) < self.epsilon :\n",
    "            action_index = np.random.choice(action_indexes)\n",
    "        else:\n",
    "            action_index = np.argmax(self.Q_table[state])\n",
    "\n",
    "        return self.actions[action_index]\n",
    "\n",
    "    def update(self, current_state, next_state, action, reward):\n",
    "        '''\n",
    "        In this code, you should implement Q-learning update rule.\n",
    "        '''\n",
    "        # your codes here\n",
    "\n",
    "        action_indexes = {'UP' : 0, 'DOWN' : 1, 'LEFT' : 2, 'RIGHT' : 3}\n",
    "\n",
    "        action_index = action_indexes[action]\n",
    "        self.Q_table[current_state][action_index] += self.alpha*(reward + self.gamma*np.max(self.Q_table[next_state]) - self.Q_table[current_state][action_index])\n",
    "              \n",
    "\n",
    "    def get_max_Q_function(self):\n",
    "        '''\n",
    "        This code gives max_a Q(s,a) for each state to us. The output of this code should be a form of \"list\".\n",
    "        Therefore, the output \"max_Q_table = [max_a Q(s,a)] = [max_a Q((row_index, col_index),a)]\",\n",
    "         and you already found the index of state \"s\" in GridWorld.py.\n",
    "        '''\n",
    "        max_Q_table = np.zeros((self.env_row_max, self.env_col_max))\n",
    "    \n",
    "        # your codes here\n",
    "        for i in range(self.env_row_max):\n",
    "            for j in range(self.env_col_max):\n",
    "                max_Q_table[(i,j)] = np.max(self.Q_table[(i, j)])\n",
    "        \n",
    "        return max_Q_table"
   ]
  },
  {
   "cell_type": "code",
   "execution_count": 3,
   "metadata": {},
   "outputs": [],
   "source": [
    "class Double_Q_learning():\n",
    "    def __init__(self, environment, epsilon=0.05, alpha=0.01, gamma=0.99):\n",
    "        self.Q1 = defaultdict(lambda: np.zeros(4)) # Q_table = {\"state\":(Q(s,UP),Q(s,DOWN),Q(s,LEFT),Q(s,RIGHT),)}\n",
    "        self.Q2 = defaultdict(lambda: np.zeros(4))\n",
    "        self.Q_table = defaultdict(lambda: np.zeros(4))\n",
    "        self.epsilon = epsilon\n",
    "        self.alpha = alpha\n",
    "        self.gamma = gamma\n",
    "        self.actions = environment.actions # ['UP', 'DOWN', 'LEFT', 'RIGHT']\n",
    "        self.env_row_max = environment.row_max\n",
    "        self.env_col_max = environment.col_max\n",
    "\n",
    "    def action(self, state):\n",
    "        '''\n",
    "        you have to implement the behavior policy (epsilon-greedy policy) w.r.t. the Q-table.\n",
    "        '''\n",
    "        # your codes here\n",
    "\n",
    "        action_indexes = np.array([0, 1, 2, 3])\n",
    "        if np.random.rand(1) < self.epsilon :\n",
    "            action_index = np.random.choice(action_indexes)\n",
    "        else:\n",
    "            self.Q_table[state] =  self.Q1[state] + self.Q2[state]     \n",
    "\n",
    "            action_index = np.argmax(self.Q_table[state])\n",
    "\n",
    "        return self.actions[action_index]\n",
    "\n",
    "\n",
    "    def update(self, current_state, next_state, action, reward):\n",
    "        '''\n",
    "        This code should contain the Double Q-learning update rule.\n",
    "\n",
    "        '''\n",
    "        # your codes here\n",
    "        action_indexes = {'UP' : 0, 'DOWN' : 1, 'LEFT' : 2, 'RIGHT' : 3}\n",
    "        action_index = action_indexes[action]\n",
    "\n",
    "        a = np.random.choice(np.array([1,2]))\n",
    "        if a == 1:\n",
    "            self.Q1[current_state][action_index] += self.alpha*(reward + self.gamma*np.max(self.Q2[next_state]) - self.Q1[current_state][action_index])\n",
    "        \n",
    "        else:\n",
    "            self.Q2[current_state][action_index] += self.alpha*(reward + self.gamma*np.max(self.Q1[next_state]) - self.Q2[current_state][action_index])\n",
    "\n",
    "\n",
    "    def get_max_Q_function(self):\n",
    "        max_Q_table = np.zeros((self.env_row_max, self.env_col_max))\n",
    "        \n",
    "        # your codes here\n",
    "\n",
    "        for i in range(self.env_row_max):\n",
    "            for j in range(self.env_col_max):\n",
    "                max_Q_table[(i,j)] = np.max(self.Q_table[(i, j)])\n",
    "        \n",
    "        return max_Q_table\n"
   ]
  },
  {
   "cell_type": "code",
   "execution_count": 5,
   "metadata": {},
   "outputs": [],
   "source": [
    "def play(environment, agent, num_episodes=10000, episode_length=1000, train=True):\n",
    "    reward_per_episode = []\n",
    "    returns = deque(maxlen=100)\n",
    "\n",
    "    for episode in range(num_episodes):\n",
    "        timestep = 0\n",
    "        terminal = False\n",
    "        while timestep < episode_length and terminal != True:\n",
    "            current_state = environment.agent_location\n",
    "            action = agent.action(current_state)\n",
    "            next_state, reward, terminal = environment.make_step(action)\n",
    "            timestep += 1\n",
    "\n",
    "            if train == True:\n",
    "                agent.update(current_state, next_state, action, reward)\n",
    "\n",
    "            if terminal == True:\n",
    "                episode_return = environment.reset()\n",
    "\n",
    "        returns.append(episode_return)\n",
    "        reward_per_episode.append(np.mean(returns))\n",
    "\n",
    "    return reward_per_episode\n",
    "\n"
   ]
  },
  {
   "cell_type": "code",
   "execution_count": 22,
   "metadata": {},
   "outputs": [],
   "source": [
    "def main():\n",
    "    np.random.seed(1)\n",
    "    # Set hyperparameters ([!] you can modify for analyzing algorithms you will implement)\n",
    "    num_episodes = 60000\n",
    "    epsilon = 0.5 #0.2/ 0.5\n",
    "    alpha = 0.01 #0.03 / 0.01\n",
    "\n",
    "    # We provide experiment codes for the project 1\n",
    "    # train an agent via Q-learninng\n",
    "    env = GridWorld()\n",
    "    agent_Q_learning = Q_learning(env, epsilon=epsilon, alpha=alpha)\n",
    "    reward_per_episode1 = play(env, agent_Q_learning, num_episodes=num_episodes)\n",
    "\n",
    "    # train an agent via Double Q-learning\n",
    "    env.reset()\n",
    "    agent_Double_Q_learning = Double_Q_learning(env, epsilon=epsilon, alpha=alpha)\n",
    "    reward_per_episode2 = play(env, agent_Double_Q_learning, num_episodes=num_episodes)\n",
    "\n",
    "    # Make learning curve\n",
    "    plt.plot(range(1, num_episodes+1), reward_per_episode1, label=\"Q-learning\")\n",
    "    plt.plot(range(1, num_episodes+1), reward_per_episode2, label=\"Double-Q-learning\")\n",
    "    plt.xlabel(\"Episodes\")\n",
    "    plt.ylabel(\"Return per Episode\")\n",
    "    plt.legend()\n",
    "  #  plt.savefig(\"learning_curve.pdf\")\n",
    "\n",
    "    # Make heatmap for max_a Q(s,a) for each state in the GridWorld\n",
    "    fig, axes = plt.subplots(1, 2, figsize=(10, 4))\n",
    "    max_Q_list = [agent_Q_learning.get_max_Q_function(), agent_Double_Q_learning.get_max_Q_function()]\n",
    "    per_name = [\"Q-learning\", \"Double-Q-learning\"]\n",
    "\n",
    "    state_list = [i for i in range(10)]\n",
    "    count = 0\n",
    "    for ax in axes.flat:\n",
    "        im = ax.imshow(max_Q_list[count], cmap='viridis')\n",
    "        ax.set_title(per_name[count], size=10)\n",
    "        ax.set_xticks(range(len(state_list)))\n",
    "        ax.set_yticks(range(len(state_list)))\n",
    "        ax.set_xticklabels(state_list)\n",
    "        ax.set_yticklabels(state_list)\n",
    "        ax.set_ylabel('Column Index')\n",
    "        ax.set_ylabel('Row Index')\n",
    "        fig.colorbar(im, ax=ax, shrink=1)\n",
    "        count += 1\n",
    "  #  fig.savefig(\"max_Q_for_each_state.pdf\")"
   ]
  },
  {
   "cell_type": "code",
   "execution_count": 23,
   "metadata": {},
   "outputs": [
    {
     "data": {
      "image/png": "[encoded data removed]",
      "text/plain": [
       "<Figure size 432x288 with 1 Axes>"
      ]
     },
     "metadata": {
      "needs_background": "light"
     },
     "output_type": "display_data"
    },
    {
     "data": {
      "image/png": "[encoded data removed]",
      "text/plain": [
       "<Figure size 720x288 with 4 Axes>"
      ]
     },
     "metadata": {
      "needs_background": "light"
     },
     "output_type": "display_data"
    }
   ],
   "source": [
    "if __name__ == \"__main__\":\n",
    "    main()"
   ]
  },
  {
   "cell_type": "code",
   "execution_count": 39,
   "metadata": {},
   "outputs": [
    {
     "data": {
      "text/plain": [
       "<matplotlib.image.AxesImage at 0x1b3bceb3fd0>"
      ]
     },
     "execution_count": 39,
     "metadata": {},
     "output_type": "execute_result"
    },
    {
     "data": {
      "image/png": "[encoded data removed]",
      "text/plain": [
       "<Figure size 432x288 with 1 Axes>"
      ]
     },
     "metadata": {
      "needs_background": "light"
     },
     "output_type": "display_data"
    }
   ],
   "source": [
    "GridWorld = GridWorld()\n",
    "table = np.zeros((GridWorld.row_max, GridWorld.col_max))\n",
    "table[GridWorld.trap_location1] = -1\n",
    "table[GridWorld.trap_location2] = -1\n",
    "table[GridWorld.trap_location3] = -1\n",
    "table[GridWorld.trap_location4] = -1\n",
    "table[GridWorld.trap_location5] = -1\n",
    "table[GridWorld.trap_location6] = -1\n",
    "table[GridWorld.trap_location7] = -1\n",
    "table[GridWorld.trap_location8] = -1\n",
    "table[GridWorld.trap_location9] = -1\n",
    "table[GridWorld.trap_location10] = -1\n",
    "table[GridWorld.trap_location11] = -1\n",
    "table[GridWorld.trap_location12] = -1\n",
    "table[GridWorld.goal_location] = 2\n",
    "table[(9,0)] = 1\n",
    "\n",
    "plt.imshow(table)\n"
   ]
  },
  {
   "cell_type": "code",
   "execution_count": null,
   "metadata": {},
   "outputs": [],
   "source": []
  }
 ],
 "metadata": {
  "interpreter": {
   "hash": "a077222d77dfe082b8f1dd562ad70e458ac2ab76993a0b248ab0476e32e9e8dd"
  },
  "kernelspec": {
   "display_name": "Python 3.9.7 ('base')",
   "language": "python",
   "name": "python3"
  },
  "language_info": {
   "codemirror_mode": {
    "name": "ipython",
    "version": 3
   },
   "file_extension": ".py",
   "mimetype": "text/x-python",
   "name": "python",
   "nbconvert_exporter": "python",
   "pygments_lexer": "ipython3",
   "version": "3.9.7"
  },
  "orig_nbformat": 4
 },
 "nbformat": 4,
 "nbformat_minor": 2
}
